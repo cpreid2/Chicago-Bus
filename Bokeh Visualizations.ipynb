{
 "cells": [
  {
   "cell_type": "code",
   "execution_count": 79,
   "metadata": {
    "collapsed": true,
    "scrolled": true
   },
   "outputs": [],
   "source": [
    "from bokeh.plotting import figure\n",
    "from bokeh.io import show, output_notebook\n",
    "from bokeh.io import push_notebook\n",
    "\n",
    "from bokeh.models import ColumnDataSource\n",
    "from bokeh.models import Range1d\n",
    "\n",
    "import pandas as pd\n",
    "import numpy as np"
   ]
  },
  {
   "cell_type": "code",
   "execution_count": 80,
   "metadata": {
    "scrolled": true
   },
   "outputs": [
    {
     "data": {
      "text/html": [
       "<div>\n",
       "<table border=\"1\" class=\"dataframe\">\n",
       "  <thead>\n",
       "    <tr style=\"text-align: right;\">\n",
       "      <th></th>\n",
       "      <th>route</th>\n",
       "      <th>date</th>\n",
       "      <th>daytype</th>\n",
       "      <th>rides</th>\n",
       "      <th>date_time</th>\n",
       "    </tr>\n",
       "  </thead>\n",
       "  <tbody>\n",
       "    <tr>\n",
       "      <th>0</th>\n",
       "      <td>3</td>\n",
       "      <td>01/01/2001</td>\n",
       "      <td>U</td>\n",
       "      <td>7354</td>\n",
       "      <td>2001-01-01</td>\n",
       "    </tr>\n",
       "    <tr>\n",
       "      <th>1</th>\n",
       "      <td>4</td>\n",
       "      <td>01/01/2001</td>\n",
       "      <td>U</td>\n",
       "      <td>9288</td>\n",
       "      <td>2001-01-01</td>\n",
       "    </tr>\n",
       "    <tr>\n",
       "      <th>2</th>\n",
       "      <td>6</td>\n",
       "      <td>01/01/2001</td>\n",
       "      <td>U</td>\n",
       "      <td>6048</td>\n",
       "      <td>2001-01-01</td>\n",
       "    </tr>\n",
       "    <tr>\n",
       "      <th>3</th>\n",
       "      <td>8</td>\n",
       "      <td>01/01/2001</td>\n",
       "      <td>U</td>\n",
       "      <td>6309</td>\n",
       "      <td>2001-01-01</td>\n",
       "    </tr>\n",
       "    <tr>\n",
       "      <th>4</th>\n",
       "      <td>9</td>\n",
       "      <td>01/01/2001</td>\n",
       "      <td>U</td>\n",
       "      <td>11207</td>\n",
       "      <td>2001-01-01</td>\n",
       "    </tr>\n",
       "  </tbody>\n",
       "</table>\n",
       "</div>"
      ],
      "text/plain": [
       "  route        date daytype  rides  date_time\n",
       "0     3  01/01/2001       U   7354 2001-01-01\n",
       "1     4  01/01/2001       U   9288 2001-01-01\n",
       "2     6  01/01/2001       U   6048 2001-01-01\n",
       "3     8  01/01/2001       U   6309 2001-01-01\n",
       "4     9  01/01/2001       U  11207 2001-01-01"
      ]
     },
     "execution_count": 80,
     "metadata": {},
     "output_type": "execute_result"
    }
   ],
   "source": [
    "# Import Bus Data\n",
    "Bus_Data = pd.read_csv('CTA_-_Ridership_-_Bus_Routes_-_Daily_Totals_by_Route.csv',',')\n",
    "Bus_Data['date_time'] = pd.to_datetime(Bus_Data['date'])\n",
    "Bus_Data.head()"
   ]
  },
  {
   "cell_type": "code",
   "execution_count": 81,
   "metadata": {
    "collapsed": true,
    "scrolled": false
   },
   "outputs": [],
   "source": [
    "# Update Callback\n",
    "def update(year, route):\n",
    "    new_data = Data[(Data['route'] == route) & \n",
    "                    (Data['date_time'] > str(year) +'-1-1') & \n",
    "                    (Data['date_time'] <= str(year+1)+'-1-1') &\n",
    "                    (Data['daytype'] == 'W')]\n",
    "    source.data = dict(new_data)\n",
    "    \n",
    "    push_notebook()"
   ]
  },
  {
   "cell_type": "code",
   "execution_count": 82,
   "metadata": {
    "scrolled": false
   },
   "outputs": [
    {
     "data": {
      "text/html": [
       "\n",
       "    <div class=\"bk-root\">\n",
       "        <a href=\"https://bokeh.pydata.org\" target=\"_blank\" class=\"bk-logo bk-logo-small bk-logo-notebook\"></a>\n",
       "        <span id=\"f6cd5977-54d5-41a0-a76d-db831cbeef78\">Loading BokehJS ...</span>\n",
       "    </div>"
      ]
     },
     "metadata": {},
     "output_type": "display_data"
    },
    {
     "data": {
      "application/javascript": [
       "\n",
       "(function(root) {\n",
       "  function now() {\n",
       "    return new Date();\n",
       "  }\n",
       "\n",
       "  var force = true;\n",
       "\n",
       "  if (typeof (root._bokeh_onload_callbacks) === \"undefined\" || force === true) {\n",
       "    root._bokeh_onload_callbacks = [];\n",
       "    root._bokeh_is_loading = undefined;\n",
       "  }\n",
       "\n",
       "  var JS_MIME_TYPE = 'application/javascript';\n",
       "  var HTML_MIME_TYPE = 'text/html';\n",
       "  var EXEC_MIME_TYPE = 'application/vnd.bokehjs_exec.v0+json';\n",
       "  var CLASS_NAME = 'output_bokeh rendered_html';\n",
       "\n",
       "  /**\n",
       "   * Render data to the DOM node\n",
       "   */\n",
       "  function render(props, node) {\n",
       "    var script = document.createElement(\"script\");\n",
       "    node.appendChild(script);\n",
       "  }\n",
       "\n",
       "  /**\n",
       "   * Handle when an output is cleared or removed\n",
       "   */\n",
       "  function handleClearOutput(event, handle) {\n",
       "    var cell = handle.cell;\n",
       "\n",
       "    var id = cell.output_area._bokeh_element_id;\n",
       "    var server_id = cell.output_area._bokeh_server_id;\n",
       "    // Clean up Bokeh references\n",
       "    if (id !== undefined) {\n",
       "      Bokeh.index[id].model.document.clear();\n",
       "      delete Bokeh.index[id];\n",
       "    }\n",
       "\n",
       "    if (server_id !== undefined) {\n",
       "      // Clean up Bokeh references\n",
       "      var cmd = \"from bokeh.io.state import curstate; print(curstate().uuid_to_server['\" + server_id + \"'].get_sessions()[0].document.roots[0]._id)\";\n",
       "      cell.notebook.kernel.execute(cmd, {\n",
       "        iopub: {\n",
       "          output: function(msg) {\n",
       "            var element_id = msg.content.text.trim();\n",
       "            Bokeh.index[element_id].model.document.clear();\n",
       "            delete Bokeh.index[element_id];\n",
       "          }\n",
       "        }\n",
       "      });\n",
       "      // Destroy server and session\n",
       "      var cmd = \"import bokeh.io.notebook as ion; ion.destroy_server('\" + server_id + \"')\";\n",
       "      cell.notebook.kernel.execute(cmd);\n",
       "    }\n",
       "  }\n",
       "\n",
       "  /**\n",
       "   * Handle when a new output is added\n",
       "   */\n",
       "  function handleAddOutput(event, handle) {\n",
       "    var output_area = handle.output_area;\n",
       "    var output = handle.output;\n",
       "\n",
       "    // limit handleAddOutput to display_data with EXEC_MIME_TYPE content only\n",
       "    if ((output.output_type != \"display_data\") || (!output.data.hasOwnProperty(EXEC_MIME_TYPE))) {\n",
       "      return\n",
       "    }\n",
       "\n",
       "    var toinsert = output_area.element.find(\".\" + CLASS_NAME.split(' ')[0]);\n",
       "\n",
       "    if (output.metadata[EXEC_MIME_TYPE][\"id\"] !== undefined) {\n",
       "      toinsert[toinsert.length - 1].firstChild.textContent = output.data[JS_MIME_TYPE];\n",
       "      // store reference to embed id on output_area\n",
       "      output_area._bokeh_element_id = output.metadata[EXEC_MIME_TYPE][\"id\"];\n",
       "    }\n",
       "    if (output.metadata[EXEC_MIME_TYPE][\"server_id\"] !== undefined) {\n",
       "      var bk_div = document.createElement(\"div\");\n",
       "      bk_div.innerHTML = output.data[HTML_MIME_TYPE];\n",
       "      var script_attrs = bk_div.children[0].attributes;\n",
       "      for (var i = 0; i < script_attrs.length; i++) {\n",
       "        toinsert[toinsert.length - 1].firstChild.setAttribute(script_attrs[i].name, script_attrs[i].value);\n",
       "      }\n",
       "      // store reference to server id on output_area\n",
       "      output_area._bokeh_server_id = output.metadata[EXEC_MIME_TYPE][\"server_id\"];\n",
       "    }\n",
       "  }\n",
       "\n",
       "  function register_renderer(events, OutputArea) {\n",
       "\n",
       "    function append_mime(data, metadata, element) {\n",
       "      // create a DOM node to render to\n",
       "      var toinsert = this.create_output_subarea(\n",
       "        metadata,\n",
       "        CLASS_NAME,\n",
       "        EXEC_MIME_TYPE\n",
       "      );\n",
       "      this.keyboard_manager.register_events(toinsert);\n",
       "      // Render to node\n",
       "      var props = {data: data, metadata: metadata[EXEC_MIME_TYPE]};\n",
       "      render(props, toinsert[toinsert.length - 1]);\n",
       "      element.append(toinsert);\n",
       "      return toinsert\n",
       "    }\n",
       "\n",
       "    /* Handle when an output is cleared or removed */\n",
       "    events.on('clear_output.CodeCell', handleClearOutput);\n",
       "    events.on('delete.Cell', handleClearOutput);\n",
       "\n",
       "    /* Handle when a new output is added */\n",
       "    events.on('output_added.OutputArea', handleAddOutput);\n",
       "\n",
       "    /**\n",
       "     * Register the mime type and append_mime function with output_area\n",
       "     */\n",
       "    OutputArea.prototype.register_mime_type(EXEC_MIME_TYPE, append_mime, {\n",
       "      /* Is output safe? */\n",
       "      safe: true,\n",
       "      /* Index of renderer in `output_area.display_order` */\n",
       "      index: 0\n",
       "    });\n",
       "  }\n",
       "\n",
       "  // register the mime type if in Jupyter Notebook environment and previously unregistered\n",
       "  if (root.Jupyter !== undefined) {\n",
       "    var events = require('base/js/events');\n",
       "    var OutputArea = require('notebook/js/outputarea').OutputArea;\n",
       "\n",
       "    if (OutputArea.prototype.mime_types().indexOf(EXEC_MIME_TYPE) == -1) {\n",
       "      register_renderer(events, OutputArea);\n",
       "    }\n",
       "  }\n",
       "\n",
       "  \n",
       "  if (typeof (root._bokeh_timeout) === \"undefined\" || force === true) {\n",
       "    root._bokeh_timeout = Date.now() + 5000;\n",
       "    root._bokeh_failed_load = false;\n",
       "  }\n",
       "\n",
       "  var NB_LOAD_WARNING = {'data': {'text/html':\n",
       "     \"<div style='background-color: #fdd'>\\n\"+\n",
       "     \"<p>\\n\"+\n",
       "     \"BokehJS does not appear to have successfully loaded. If loading BokehJS from CDN, this \\n\"+\n",
       "     \"may be due to a slow or bad network connection. Possible fixes:\\n\"+\n",
       "     \"</p>\\n\"+\n",
       "     \"<ul>\\n\"+\n",
       "     \"<li>re-rerun `output_notebook()` to attempt to load from CDN again, or</li>\\n\"+\n",
       "     \"<li>use INLINE resources instead, as so:</li>\\n\"+\n",
       "     \"</ul>\\n\"+\n",
       "     \"<code>\\n\"+\n",
       "     \"from bokeh.resources import INLINE\\n\"+\n",
       "     \"output_notebook(resources=INLINE)\\n\"+\n",
       "     \"</code>\\n\"+\n",
       "     \"</div>\"}};\n",
       "\n",
       "  function display_loaded() {\n",
       "    var el = document.getElementById(\"f6cd5977-54d5-41a0-a76d-db831cbeef78\");\n",
       "    if (el != null) {\n",
       "      el.textContent = \"BokehJS is loading...\";\n",
       "    }\n",
       "    if (root.Bokeh !== undefined) {\n",
       "      if (el != null) {\n",
       "        el.textContent = \"BokehJS \" + root.Bokeh.version + \" successfully loaded.\";\n",
       "      }\n",
       "    } else if (Date.now() < root._bokeh_timeout) {\n",
       "      setTimeout(display_loaded, 100)\n",
       "    }\n",
       "  }\n",
       "\n",
       "\n",
       "  function run_callbacks() {\n",
       "    try {\n",
       "      root._bokeh_onload_callbacks.forEach(function(callback) { callback() });\n",
       "    }\n",
       "    finally {\n",
       "      delete root._bokeh_onload_callbacks\n",
       "    }\n",
       "    console.info(\"Bokeh: all callbacks have finished\");\n",
       "  }\n",
       "\n",
       "  function load_libs(js_urls, callback) {\n",
       "    root._bokeh_onload_callbacks.push(callback);\n",
       "    if (root._bokeh_is_loading > 0) {\n",
       "      console.log(\"Bokeh: BokehJS is being loaded, scheduling callback at\", now());\n",
       "      return null;\n",
       "    }\n",
       "    if (js_urls == null || js_urls.length === 0) {\n",
       "      run_callbacks();\n",
       "      return null;\n",
       "    }\n",
       "    console.log(\"Bokeh: BokehJS not loaded, scheduling load and callback at\", now());\n",
       "    root._bokeh_is_loading = js_urls.length;\n",
       "    for (var i = 0; i < js_urls.length; i++) {\n",
       "      var url = js_urls[i];\n",
       "      var s = document.createElement('script');\n",
       "      s.src = url;\n",
       "      s.async = false;\n",
       "      s.onreadystatechange = s.onload = function() {\n",
       "        root._bokeh_is_loading--;\n",
       "        if (root._bokeh_is_loading === 0) {\n",
       "          console.log(\"Bokeh: all BokehJS libraries loaded\");\n",
       "          run_callbacks()\n",
       "        }\n",
       "      };\n",
       "      s.onerror = function() {\n",
       "        console.warn(\"failed to load library \" + url);\n",
       "      };\n",
       "      console.log(\"Bokeh: injecting script tag for BokehJS library: \", url);\n",
       "      document.getElementsByTagName(\"head\")[0].appendChild(s);\n",
       "    }\n",
       "  };var element = document.getElementById(\"f6cd5977-54d5-41a0-a76d-db831cbeef78\");\n",
       "  if (element == null) {\n",
       "    console.log(\"Bokeh: ERROR: autoload.js configured with elementid 'f6cd5977-54d5-41a0-a76d-db831cbeef78' but no matching script tag was found. \")\n",
       "    return false;\n",
       "  }\n",
       "\n",
       "  var js_urls = [\"https://cdn.pydata.org/bokeh/release/bokeh-0.12.16.min.js\", \"https://cdn.pydata.org/bokeh/release/bokeh-widgets-0.12.16.min.js\", \"https://cdn.pydata.org/bokeh/release/bokeh-tables-0.12.16.min.js\", \"https://cdn.pydata.org/bokeh/release/bokeh-gl-0.12.16.min.js\"];\n",
       "\n",
       "  var inline_js = [\n",
       "    function(Bokeh) {\n",
       "      Bokeh.set_log_level(\"info\");\n",
       "    },\n",
       "    \n",
       "    function(Bokeh) {\n",
       "      \n",
       "    },\n",
       "    function(Bokeh) {\n",
       "      console.log(\"Bokeh: injecting CSS: https://cdn.pydata.org/bokeh/release/bokeh-0.12.16.min.css\");\n",
       "      Bokeh.embed.inject_css(\"https://cdn.pydata.org/bokeh/release/bokeh-0.12.16.min.css\");\n",
       "      console.log(\"Bokeh: injecting CSS: https://cdn.pydata.org/bokeh/release/bokeh-widgets-0.12.16.min.css\");\n",
       "      Bokeh.embed.inject_css(\"https://cdn.pydata.org/bokeh/release/bokeh-widgets-0.12.16.min.css\");\n",
       "      console.log(\"Bokeh: injecting CSS: https://cdn.pydata.org/bokeh/release/bokeh-tables-0.12.16.min.css\");\n",
       "      Bokeh.embed.inject_css(\"https://cdn.pydata.org/bokeh/release/bokeh-tables-0.12.16.min.css\");\n",
       "    }\n",
       "  ];\n",
       "\n",
       "  function run_inline_js() {\n",
       "    \n",
       "    if ((root.Bokeh !== undefined) || (force === true)) {\n",
       "      for (var i = 0; i < inline_js.length; i++) {\n",
       "        inline_js[i].call(root, root.Bokeh);\n",
       "      }if (force === true) {\n",
       "        display_loaded();\n",
       "      }} else if (Date.now() < root._bokeh_timeout) {\n",
       "      setTimeout(run_inline_js, 100);\n",
       "    } else if (!root._bokeh_failed_load) {\n",
       "      console.log(\"Bokeh: BokehJS failed to load within specified timeout.\");\n",
       "      root._bokeh_failed_load = true;\n",
       "    } else if (force !== true) {\n",
       "      var cell = $(document.getElementById(\"f6cd5977-54d5-41a0-a76d-db831cbeef78\")).parents('.cell').data().cell;\n",
       "      cell.output_area.append_execute_result(NB_LOAD_WARNING)\n",
       "    }\n",
       "\n",
       "  }\n",
       "\n",
       "  if (root._bokeh_is_loading === 0) {\n",
       "    console.log(\"Bokeh: BokehJS loaded, going straight to plotting\");\n",
       "    run_inline_js();\n",
       "  } else {\n",
       "    load_libs(js_urls, function() {\n",
       "      console.log(\"Bokeh: BokehJS plotting callback run at\", now());\n",
       "      run_inline_js();\n",
       "    });\n",
       "  }\n",
       "}(window));"
      ],
      "application/vnd.bokehjs_load.v0+json": "\n(function(root) {\n  function now() {\n    return new Date();\n  }\n\n  var force = true;\n\n  if (typeof (root._bokeh_onload_callbacks) === \"undefined\" || force === true) {\n    root._bokeh_onload_callbacks = [];\n    root._bokeh_is_loading = undefined;\n  }\n\n  \n\n  \n  if (typeof (root._bokeh_timeout) === \"undefined\" || force === true) {\n    root._bokeh_timeout = Date.now() + 5000;\n    root._bokeh_failed_load = false;\n  }\n\n  var NB_LOAD_WARNING = {'data': {'text/html':\n     \"<div style='background-color: #fdd'>\\n\"+\n     \"<p>\\n\"+\n     \"BokehJS does not appear to have successfully loaded. If loading BokehJS from CDN, this \\n\"+\n     \"may be due to a slow or bad network connection. Possible fixes:\\n\"+\n     \"</p>\\n\"+\n     \"<ul>\\n\"+\n     \"<li>re-rerun `output_notebook()` to attempt to load from CDN again, or</li>\\n\"+\n     \"<li>use INLINE resources instead, as so:</li>\\n\"+\n     \"</ul>\\n\"+\n     \"<code>\\n\"+\n     \"from bokeh.resources import INLINE\\n\"+\n     \"output_notebook(resources=INLINE)\\n\"+\n     \"</code>\\n\"+\n     \"</div>\"}};\n\n  function display_loaded() {\n    var el = document.getElementById(\"f6cd5977-54d5-41a0-a76d-db831cbeef78\");\n    if (el != null) {\n      el.textContent = \"BokehJS is loading...\";\n    }\n    if (root.Bokeh !== undefined) {\n      if (el != null) {\n        el.textContent = \"BokehJS \" + root.Bokeh.version + \" successfully loaded.\";\n      }\n    } else if (Date.now() < root._bokeh_timeout) {\n      setTimeout(display_loaded, 100)\n    }\n  }\n\n\n  function run_callbacks() {\n    try {\n      root._bokeh_onload_callbacks.forEach(function(callback) { callback() });\n    }\n    finally {\n      delete root._bokeh_onload_callbacks\n    }\n    console.info(\"Bokeh: all callbacks have finished\");\n  }\n\n  function load_libs(js_urls, callback) {\n    root._bokeh_onload_callbacks.push(callback);\n    if (root._bokeh_is_loading > 0) {\n      console.log(\"Bokeh: BokehJS is being loaded, scheduling callback at\", now());\n      return null;\n    }\n    if (js_urls == null || js_urls.length === 0) {\n      run_callbacks();\n      return null;\n    }\n    console.log(\"Bokeh: BokehJS not loaded, scheduling load and callback at\", now());\n    root._bokeh_is_loading = js_urls.length;\n    for (var i = 0; i < js_urls.length; i++) {\n      var url = js_urls[i];\n      var s = document.createElement('script');\n      s.src = url;\n      s.async = false;\n      s.onreadystatechange = s.onload = function() {\n        root._bokeh_is_loading--;\n        if (root._bokeh_is_loading === 0) {\n          console.log(\"Bokeh: all BokehJS libraries loaded\");\n          run_callbacks()\n        }\n      };\n      s.onerror = function() {\n        console.warn(\"failed to load library \" + url);\n      };\n      console.log(\"Bokeh: injecting script tag for BokehJS library: \", url);\n      document.getElementsByTagName(\"head\")[0].appendChild(s);\n    }\n  };var element = document.getElementById(\"f6cd5977-54d5-41a0-a76d-db831cbeef78\");\n  if (element == null) {\n    console.log(\"Bokeh: ERROR: autoload.js configured with elementid 'f6cd5977-54d5-41a0-a76d-db831cbeef78' but no matching script tag was found. \")\n    return false;\n  }\n\n  var js_urls = [\"https://cdn.pydata.org/bokeh/release/bokeh-0.12.16.min.js\", \"https://cdn.pydata.org/bokeh/release/bokeh-widgets-0.12.16.min.js\", \"https://cdn.pydata.org/bokeh/release/bokeh-tables-0.12.16.min.js\", \"https://cdn.pydata.org/bokeh/release/bokeh-gl-0.12.16.min.js\"];\n\n  var inline_js = [\n    function(Bokeh) {\n      Bokeh.set_log_level(\"info\");\n    },\n    \n    function(Bokeh) {\n      \n    },\n    function(Bokeh) {\n      console.log(\"Bokeh: injecting CSS: https://cdn.pydata.org/bokeh/release/bokeh-0.12.16.min.css\");\n      Bokeh.embed.inject_css(\"https://cdn.pydata.org/bokeh/release/bokeh-0.12.16.min.css\");\n      console.log(\"Bokeh: injecting CSS: https://cdn.pydata.org/bokeh/release/bokeh-widgets-0.12.16.min.css\");\n      Bokeh.embed.inject_css(\"https://cdn.pydata.org/bokeh/release/bokeh-widgets-0.12.16.min.css\");\n      console.log(\"Bokeh: injecting CSS: https://cdn.pydata.org/bokeh/release/bokeh-tables-0.12.16.min.css\");\n      Bokeh.embed.inject_css(\"https://cdn.pydata.org/bokeh/release/bokeh-tables-0.12.16.min.css\");\n    }\n  ];\n\n  function run_inline_js() {\n    \n    if ((root.Bokeh !== undefined) || (force === true)) {\n      for (var i = 0; i < inline_js.length; i++) {\n        inline_js[i].call(root, root.Bokeh);\n      }if (force === true) {\n        display_loaded();\n      }} else if (Date.now() < root._bokeh_timeout) {\n      setTimeout(run_inline_js, 100);\n    } else if (!root._bokeh_failed_load) {\n      console.log(\"Bokeh: BokehJS failed to load within specified timeout.\");\n      root._bokeh_failed_load = true;\n    } else if (force !== true) {\n      var cell = $(document.getElementById(\"f6cd5977-54d5-41a0-a76d-db831cbeef78\")).parents('.cell').data().cell;\n      cell.output_area.append_execute_result(NB_LOAD_WARNING)\n    }\n\n  }\n\n  if (root._bokeh_is_loading === 0) {\n    console.log(\"Bokeh: BokehJS loaded, going straight to plotting\");\n    run_inline_js();\n  } else {\n    load_libs(js_urls, function() {\n      console.log(\"Bokeh: BokehJS plotting callback run at\", now());\n      run_inline_js();\n    });\n  }\n}(window));"
     },
     "metadata": {},
     "output_type": "display_data"
    },
    {
     "data": {
      "text/html": [
       "\n",
       "<div class=\"bk-root\">\n",
       "    <div class=\"bk-plotdiv\" id=\"6a4d4af7-ad8b-4489-8615-00bad84887b6\"></div>\n",
       "</div>"
      ]
     },
     "metadata": {},
     "output_type": "display_data"
    },
    {
     "data": {
      "application/javascript": [
       "(function(root) {\n",
       "  function embed_document(root) {\n",
       "    \n",
       "  var docs_json = {\"efe6baa4-f5ef-4c48-9ec9-a2e6c9c00025\":{\"roots\":{\"references\":[{\"attributes\":{\"below\":[{\"id\":\"5afc609e-8a0f-4762-8a82-05012fdb5011\",\"type\":\"DatetimeAxis\"}],\"left\":[{\"id\":\"4ca9ba17-afc1-4892-a60a-f86c859caeee\",\"type\":\"LinearAxis\"}],\"plot_height\":400,\"plot_width\":900,\"renderers\":[{\"id\":\"5afc609e-8a0f-4762-8a82-05012fdb5011\",\"type\":\"DatetimeAxis\"},{\"id\":\"0cd1ed0e-46f4-4a48-9195-d94e0bdf06de\",\"type\":\"Grid\"},{\"id\":\"4ca9ba17-afc1-4892-a60a-f86c859caeee\",\"type\":\"LinearAxis\"},{\"id\":\"8ef0d257-5e8f-4b2f-933e-76f9f0679ea5\",\"type\":\"Grid\"},{\"id\":\"6d60a655-cbe6-4d56-9271-0285e1344c5b\",\"type\":\"BoxAnnotation\"},{\"id\":\"114df276-767d-48ea-90cd-ffec350a331e\",\"type\":\"GlyphRenderer\"}],\"title\":{\"id\":\"b4fe11d8-6c6c-422c-9631-e0f436d2127a\",\"type\":\"Title\"},\"toolbar\":{\"id\":\"1cc5ae06-962b-4962-8484-270c5a0db751\",\"type\":\"Toolbar\"},\"x_range\":{\"id\":\"ce9b568e-dd77-41fc-b965-6cca4dfa1bf6\",\"type\":\"DataRange1d\"},\"x_scale\":{\"id\":\"dc34e75d-8de5-464f-9258-255a72bbca0d\",\"type\":\"LinearScale\"},\"y_range\":{\"id\":\"42a55d97-28ce-4629-95c7-504dddffaa71\",\"type\":\"Range1d\"},\"y_scale\":{\"id\":\"c5596eab-693b-44e3-b047-cab60001daea\",\"type\":\"LinearScale\"}},\"id\":\"1712987c-5cf4-4d99-be96-970cccb9f09c\",\"subtype\":\"Figure\",\"type\":\"Plot\"},{\"attributes\":{\"callback\":null,\"end\":30000},\"id\":\"42a55d97-28ce-4629-95c7-504dddffaa71\",\"type\":\"Range1d\"},{\"attributes\":{\"base\":60,\"mantissas\":[1,2,5,10,15,20,30],\"max_interval\":1800000.0,\"min_interval\":1000.0,\"num_minor_ticks\":0},\"id\":\"c32a3ff5-b87a-4201-bfe1-9a69a56a5d3f\",\"type\":\"AdaptiveTicker\"},{\"attributes\":{\"overlay\":{\"id\":\"6d60a655-cbe6-4d56-9271-0285e1344c5b\",\"type\":\"BoxAnnotation\"}},\"id\":\"ddb717f4-745a-4acf-a14f-8ecd7ad6bbab\",\"type\":\"BoxZoomTool\"},{\"attributes\":{\"source\":{\"id\":\"d9c59066-c9aa-42bb-af23-4721e1ac2f84\",\"type\":\"ColumnDataSource\"}},\"id\":\"a21e7975-32c4-4f4d-90e9-49a325175dc1\",\"type\":\"CDSView\"},{\"attributes\":{\"days\":[1,2,3,4,5,6,7,8,9,10,11,12,13,14,15,16,17,18,19,20,21,22,23,24,25,26,27,28,29,30,31]},\"id\":\"e2735d3b-0de2-42f2-8d24-cc7ea99dd11a\",\"type\":\"DaysTicker\"},{\"attributes\":{\"base\":24,\"mantissas\":[1,2,4,6,8,12],\"max_interval\":43200000.0,\"min_interval\":3600000.0,\"num_minor_ticks\":0},\"id\":\"b13cd051-4678-479b-b4cd-ec4c1e599ad6\",\"type\":\"AdaptiveTicker\"},{\"attributes\":{\"axis_label\":\"rides\",\"formatter\":{\"id\":\"a90fc1d8-e35c-4f25-a1c3-4c2c781bd51b\",\"type\":\"BasicTickFormatter\"},\"plot\":{\"id\":\"1712987c-5cf4-4d99-be96-970cccb9f09c\",\"subtype\":\"Figure\",\"type\":\"Plot\"},\"ticker\":{\"id\":\"d232824b-c50c-4039-8069-9724e6e3b34f\",\"type\":\"BasicTicker\"}},\"id\":\"4ca9ba17-afc1-4892-a60a-f86c859caeee\",\"type\":\"LinearAxis\"},{\"attributes\":{\"months\":[0,1,2,3,4,5,6,7,8,9,10,11]},\"id\":\"5e5dacfd-19b6-42af-a244-65e9a80dcd14\",\"type\":\"MonthsTicker\"},{\"attributes\":{\"axis_label\":\"time\",\"formatter\":{\"id\":\"0168fdbf-8cff-461c-aec7-c4a6f7cf8a56\",\"type\":\"DatetimeTickFormatter\"},\"plot\":{\"id\":\"1712987c-5cf4-4d99-be96-970cccb9f09c\",\"subtype\":\"Figure\",\"type\":\"Plot\"},\"ticker\":{\"id\":\"5dc6ea3a-ae16-4fe8-ba75-16f133c93e08\",\"type\":\"DatetimeTicker\"}},\"id\":\"5afc609e-8a0f-4762-8a82-05012fdb5011\",\"type\":\"DatetimeAxis\"},{\"attributes\":{\"days\":[1,15]},\"id\":\"0edc67a9-db69-4f41-bfd1-79f4eac50156\",\"type\":\"DaysTicker\"},{\"attributes\":{},\"id\":\"c32895d4-cf8c-4973-bfa7-e6333300b691\",\"type\":\"Selection\"},{\"attributes\":{\"mantissas\":[1,2,5],\"max_interval\":500.0,\"num_minor_ticks\":0},\"id\":\"8a0cf8a4-80e6-4f01-a4fc-4b1974bb196e\",\"type\":\"AdaptiveTicker\"},{\"attributes\":{},\"id\":\"d232824b-c50c-4039-8069-9724e6e3b34f\",\"type\":\"BasicTicker\"},{\"attributes\":{\"fill_alpha\":{\"value\":0.5},\"fill_color\":{\"value\":\"navy\"},\"line_alpha\":{\"value\":0.5},\"line_color\":{\"value\":\"navy\"},\"x\":{\"field\":\"date_time\"},\"y\":{\"field\":\"rides\"}},\"id\":\"8a513208-7893-4cf5-91fc-fc0900fd0f6d\",\"type\":\"Circle\"},{\"attributes\":{\"callback\":null},\"id\":\"ce9b568e-dd77-41fc-b965-6cca4dfa1bf6\",\"type\":\"DataRange1d\"},{\"attributes\":{\"active_drag\":\"auto\",\"active_inspect\":\"auto\",\"active_scroll\":\"auto\",\"active_tap\":\"auto\",\"tools\":[{\"id\":\"457da216-20c7-4e08-a935-393989942bbc\",\"type\":\"PanTool\"},{\"id\":\"86b86924-8dc9-46b9-9972-a9417dc4fadf\",\"type\":\"WheelZoomTool\"},{\"id\":\"ddb717f4-745a-4acf-a14f-8ecd7ad6bbab\",\"type\":\"BoxZoomTool\"},{\"id\":\"cb4a2c90-38e9-44d9-b631-e0dbd430f94b\",\"type\":\"SaveTool\"},{\"id\":\"f15b5ce1-ff21-42b6-9f90-2a14aa35bcb9\",\"type\":\"ResetTool\"},{\"id\":\"cfa7d6e3-253c-4ae8-9ede-7643c4e053cb\",\"type\":\"HelpTool\"}]},\"id\":\"1cc5ae06-962b-4962-8484-270c5a0db751\",\"type\":\"Toolbar\"},{\"attributes\":{},\"id\":\"0615d333-c5f9-4167-926e-91b723f6dc53\",\"type\":\"YearsTicker\"},{\"attributes\":{},\"id\":\"0b4ab0e9-469c-4eb4-a4b0-fbdf3b10e7f8\",\"type\":\"UnionRenderers\"},{\"attributes\":{\"days\":[1,8,15,22]},\"id\":\"417058de-561d-472a-80c8-d311b6464097\",\"type\":\"DaysTicker\"},{\"attributes\":{\"months\":[0,2,4,6,8,10]},\"id\":\"4eb29e6d-4df1-4f37-8961-95f2947cdede\",\"type\":\"MonthsTicker\"},{\"attributes\":{\"months\":[0,6]},\"id\":\"73b0ef08-9d5b-4d8f-8d24-600d8db91b0a\",\"type\":\"MonthsTicker\"},{\"attributes\":{},\"id\":\"86b86924-8dc9-46b9-9972-a9417dc4fadf\",\"type\":\"WheelZoomTool\"},{\"attributes\":{},\"id\":\"a90fc1d8-e35c-4f25-a1c3-4c2c781bd51b\",\"type\":\"BasicTickFormatter\"},{\"attributes\":{\"dimension\":1,\"plot\":{\"id\":\"1712987c-5cf4-4d99-be96-970cccb9f09c\",\"subtype\":\"Figure\",\"type\":\"Plot\"},\"ticker\":{\"id\":\"d232824b-c50c-4039-8069-9724e6e3b34f\",\"type\":\"BasicTicker\"}},\"id\":\"8ef0d257-5e8f-4b2f-933e-76f9f0679ea5\",\"type\":\"Grid\"},{\"attributes\":{},\"id\":\"0168fdbf-8cff-461c-aec7-c4a6f7cf8a56\",\"type\":\"DatetimeTickFormatter\"},{\"attributes\":{},\"id\":\"dc34e75d-8de5-464f-9258-255a72bbca0d\",\"type\":\"LinearScale\"},{\"attributes\":{\"num_minor_ticks\":5,\"tickers\":[{\"id\":\"8a0cf8a4-80e6-4f01-a4fc-4b1974bb196e\",\"type\":\"AdaptiveTicker\"},{\"id\":\"c32a3ff5-b87a-4201-bfe1-9a69a56a5d3f\",\"type\":\"AdaptiveTicker\"},{\"id\":\"b13cd051-4678-479b-b4cd-ec4c1e599ad6\",\"type\":\"AdaptiveTicker\"},{\"id\":\"e2735d3b-0de2-42f2-8d24-cc7ea99dd11a\",\"type\":\"DaysTicker\"},{\"id\":\"08a04f03-9f74-4a65-80f5-768ca91ba0a8\",\"type\":\"DaysTicker\"},{\"id\":\"417058de-561d-472a-80c8-d311b6464097\",\"type\":\"DaysTicker\"},{\"id\":\"0edc67a9-db69-4f41-bfd1-79f4eac50156\",\"type\":\"DaysTicker\"},{\"id\":\"5e5dacfd-19b6-42af-a244-65e9a80dcd14\",\"type\":\"MonthsTicker\"},{\"id\":\"4eb29e6d-4df1-4f37-8961-95f2947cdede\",\"type\":\"MonthsTicker\"},{\"id\":\"e999e505-df55-45a3-a476-13185e1085f4\",\"type\":\"MonthsTicker\"},{\"id\":\"73b0ef08-9d5b-4d8f-8d24-600d8db91b0a\",\"type\":\"MonthsTicker\"},{\"id\":\"0615d333-c5f9-4167-926e-91b723f6dc53\",\"type\":\"YearsTicker\"}]},\"id\":\"5dc6ea3a-ae16-4fe8-ba75-16f133c93e08\",\"type\":\"DatetimeTicker\"},{\"attributes\":{\"plot\":{\"id\":\"1712987c-5cf4-4d99-be96-970cccb9f09c\",\"subtype\":\"Figure\",\"type\":\"Plot\"},\"ticker\":{\"id\":\"5dc6ea3a-ae16-4fe8-ba75-16f133c93e08\",\"type\":\"DatetimeTicker\"}},\"id\":\"0cd1ed0e-46f4-4a48-9195-d94e0bdf06de\",\"type\":\"Grid\"},{\"attributes\":{},\"id\":\"c5596eab-693b-44e3-b047-cab60001daea\",\"type\":\"LinearScale\"},{\"attributes\":{},\"id\":\"cb4a2c90-38e9-44d9-b631-e0dbd430f94b\",\"type\":\"SaveTool\"},{\"attributes\":{\"fill_alpha\":{\"value\":0.1},\"fill_color\":{\"value\":\"#1f77b4\"},\"line_alpha\":{\"value\":0.1},\"line_color\":{\"value\":\"#1f77b4\"},\"x\":{\"field\":\"date_time\"},\"y\":{\"field\":\"rides\"}},\"id\":\"085633fc-17cf-40fb-9821-408700ea15d1\",\"type\":\"Circle\"},{\"attributes\":{},\"id\":\"457da216-20c7-4e08-a935-393989942bbc\",\"type\":\"PanTool\"},{\"attributes\":{\"plot\":null,\"text\":\"Bus ridership over time\"},\"id\":\"b4fe11d8-6c6c-422c-9631-e0f436d2127a\",\"type\":\"Title\"},{\"attributes\":{\"data_source\":{\"id\":\"d9c59066-c9aa-42bb-af23-4721e1ac2f84\",\"type\":\"ColumnDataSource\"},\"glyph\":{\"id\":\"8a513208-7893-4cf5-91fc-fc0900fd0f6d\",\"type\":\"Circle\"},\"hover_glyph\":null,\"muted_glyph\":null,\"nonselection_glyph\":{\"id\":\"085633fc-17cf-40fb-9821-408700ea15d1\",\"type\":\"Circle\"},\"selection_glyph\":null,\"view\":{\"id\":\"a21e7975-32c4-4f4d-90e9-49a325175dc1\",\"type\":\"CDSView\"}},\"id\":\"114df276-767d-48ea-90cd-ffec350a331e\",\"type\":\"GlyphRenderer\"},{\"attributes\":{\"days\":[1,4,7,10,13,16,19,22,25,28]},\"id\":\"08a04f03-9f74-4a65-80f5-768ca91ba0a8\",\"type\":\"DaysTicker\"},{\"attributes\":{},\"id\":\"f15b5ce1-ff21-42b6-9f90-2a14aa35bcb9\",\"type\":\"ResetTool\"},{\"attributes\":{},\"id\":\"cfa7d6e3-253c-4ae8-9ede-7643c4e053cb\",\"type\":\"HelpTool\"},{\"attributes\":{\"bottom_units\":\"screen\",\"fill_alpha\":{\"value\":0.5},\"fill_color\":{\"value\":\"lightgrey\"},\"left_units\":\"screen\",\"level\":\"overlay\",\"line_alpha\":{\"value\":1.0},\"line_color\":{\"value\":\"black\"},\"line_dash\":[4,4],\"line_width\":{\"value\":2},\"plot\":null,\"render_mode\":\"css\",\"right_units\":\"screen\",\"top_units\":\"screen\"},\"id\":\"6d60a655-cbe6-4d56-9271-0285e1344c5b\",\"type\":\"BoxAnnotation\"},{\"attributes\":{\"callback\":null,\"data\":{\"date\":[\"01/04/2010\",\"01/05/2010\",\"01/06/2010\",\"01/07/2010\",\"01/08/2010\",\"01/11/2010\",\"01/12/2010\",\"01/13/2010\",\"01/14/2010\",\"01/15/2010\",\"01/18/2010\",\"01/19/2010\",\"01/20/2010\",\"01/21/2010\",\"01/22/2010\",\"01/25/2010\",\"01/26/2010\",\"01/27/2010\",\"01/28/2010\",\"01/29/2010\",\"02/01/2010\",\"02/02/2010\",\"02/03/2010\",\"02/04/2010\",\"02/05/2010\",\"02/08/2010\",\"02/09/2010\",\"02/10/2010\",\"02/11/2010\",\"02/12/2010\",\"02/15/2010\",\"02/16/2010\",\"02/17/2010\",\"02/18/2010\",\"02/19/2010\",\"02/22/2010\",\"02/23/2010\",\"02/24/2010\",\"02/25/2010\",\"02/26/2010\",\"03/01/2010\",\"03/02/2010\",\"03/03/2010\",\"03/04/2010\",\"03/05/2010\",\"03/08/2010\",\"03/09/2010\",\"03/10/2010\",\"03/11/2010\",\"03/12/2010\",\"03/15/2010\",\"03/16/2010\",\"03/17/2010\",\"03/18/2010\",\"03/19/2010\",\"03/22/2010\",\"03/23/2010\",\"03/24/2010\",\"03/25/2010\",\"03/26/2010\",\"03/29/2010\",\"03/30/2010\",\"03/31/2010\",\"04/01/2010\",\"04/02/2010\",\"04/05/2010\",\"04/06/2010\",\"04/07/2010\",\"04/08/2010\",\"04/09/2010\",\"04/12/2010\",\"04/13/2010\",\"04/14/2010\",\"04/15/2010\",\"04/16/2010\",\"04/19/2010\",\"04/20/2010\",\"04/21/2010\",\"04/22/2010\",\"04/23/2010\",\"04/26/2010\",\"04/27/2010\",\"04/28/2010\",\"04/29/2010\",\"04/30/2010\",\"05/03/2010\",\"05/04/2010\",\"05/05/2010\",\"05/06/2010\",\"05/07/2010\",\"05/10/2010\",\"05/11/2010\",\"05/12/2010\",\"05/13/2010\",\"05/14/2010\",\"05/17/2010\",\"05/18/2010\",\"05/19/2010\",\"05/20/2010\",\"05/21/2010\",\"05/24/2010\",\"05/25/2010\",\"05/26/2010\",\"05/27/2010\",\"05/28/2010\",\"06/01/2010\",\"06/02/2010\",\"06/03/2010\",\"06/04/2010\",\"06/07/2010\",\"06/08/2010\",\"06/09/2010\",\"06/10/2010\",\"06/11/2010\",\"06/14/2010\",\"06/15/2010\",\"06/16/2010\",\"06/17/2010\",\"06/18/2010\",\"06/21/2010\",\"06/22/2010\",\"06/23/2010\",\"06/24/2010\",\"06/25/2010\",\"06/28/2010\",\"06/29/2010\",\"06/30/2010\",\"07/01/2010\",\"07/02/2010\",\"07/06/2010\",\"07/07/2010\",\"07/08/2010\",\"07/09/2010\",\"07/12/2010\",\"07/13/2010\",\"07/14/2010\",\"07/15/2010\",\"07/16/2010\",\"07/19/2010\",\"07/20/2010\",\"07/21/2010\",\"07/22/2010\",\"07/23/2010\",\"07/26/2010\",\"07/27/2010\",\"07/28/2010\",\"07/29/2010\",\"07/30/2010\",\"08/02/2010\",\"08/03/2010\",\"08/04/2010\",\"08/05/2010\",\"08/06/2010\",\"08/09/2010\",\"08/10/2010\",\"08/11/2010\",\"08/12/2010\",\"08/13/2010\",\"08/16/2010\",\"08/17/2010\",\"08/18/2010\",\"08/19/2010\",\"08/20/2010\",\"08/23/2010\",\"08/24/2010\",\"08/25/2010\",\"08/26/2010\",\"08/27/2010\",\"08/30/2010\",\"08/31/2010\",\"09/01/2010\",\"09/02/2010\",\"09/03/2010\",\"09/07/2010\",\"09/08/2010\",\"09/09/2010\",\"09/10/2010\",\"09/13/2010\",\"09/14/2010\",\"09/15/2010\",\"09/16/2010\",\"09/17/2010\",\"09/20/2010\",\"09/21/2010\",\"09/22/2010\",\"09/23/2010\",\"09/24/2010\",\"09/27/2010\",\"09/28/2010\",\"09/29/2010\",\"09/30/2010\",\"10/01/2010\",\"10/04/2010\",\"10/05/2010\",\"10/06/2010\",\"10/07/2010\",\"10/08/2010\",\"10/11/2010\",\"10/12/2010\",\"10/13/2010\",\"10/14/2010\",\"10/15/2010\",\"10/18/2010\",\"10/19/2010\",\"10/20/2010\",\"10/21/2010\",\"10/22/2010\",\"10/25/2010\",\"10/26/2010\",\"10/27/2010\",\"10/28/2010\",\"10/29/2010\",\"11/01/2010\",\"11/02/2010\",\"11/03/2010\",\"11/04/2010\",\"11/05/2010\",\"11/08/2010\",\"11/09/2010\",\"11/10/2010\",\"11/11/2010\",\"11/12/2010\",\"11/15/2010\",\"11/16/2010\",\"11/17/2010\",\"11/18/2010\",\"11/19/2010\",\"11/22/2010\",\"11/23/2010\",\"11/24/2010\",\"11/26/2010\",\"11/29/2010\",\"11/30/2010\",\"12/01/2010\",\"12/02/2010\",\"12/03/2010\",\"12/06/2010\",\"12/07/2010\",\"12/08/2010\",\"12/09/2010\",\"12/10/2010\",\"12/13/2010\",\"12/14/2010\",\"12/15/2010\",\"12/16/2010\",\"12/17/2010\",\"12/20/2010\",\"12/21/2010\",\"12/22/2010\",\"12/23/2010\",\"12/24/2010\",\"12/27/2010\",\"12/28/2010\",\"12/29/2010\",\"12/30/2010\",\"12/31/2010\"],\"date_time\":{\"__ndarray__\":\"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\",\"dtype\":\"float64\",\"shape\":[256]},\"daytype\":[\"W\",\"W\",\"W\",\"W\",\"W\",\"W\",\"W\",\"W\",\"W\",\"W\",\"W\",\"W\",\"W\",\"W\",\"W\",\"W\",\"W\",\"W\",\"W\",\"W\",\"W\",\"W\",\"W\",\"W\",\"W\",\"W\",\"W\",\"W\",\"W\",\"W\",\"W\",\"W\",\"W\",\"W\",\"W\",\"W\",\"W\",\"W\",\"W\",\"W\",\"W\",\"W\",\"W\",\"W\",\"W\",\"W\",\"W\",\"W\",\"W\",\"W\",\"W\",\"W\",\"W\",\"W\",\"W\",\"W\",\"W\",\"W\",\"W\",\"W\",\"W\",\"W\",\"W\",\"W\",\"W\",\"W\",\"W\",\"W\",\"W\",\"W\",\"W\",\"W\",\"W\",\"W\",\"W\",\"W\",\"W\",\"W\",\"W\",\"W\",\"W\",\"W\",\"W\",\"W\",\"W\",\"W\",\"W\",\"W\",\"W\",\"W\",\"W\",\"W\",\"W\",\"W\",\"W\",\"W\",\"W\",\"W\",\"W\",\"W\",\"W\",\"W\",\"W\",\"W\",\"W\",\"W\",\"W\",\"W\",\"W\",\"W\",\"W\",\"W\",\"W\",\"W\",\"W\",\"W\",\"W\",\"W\",\"W\",\"W\",\"W\",\"W\",\"W\",\"W\",\"W\",\"W\",\"W\",\"W\",\"W\",\"W\",\"W\",\"W\",\"W\",\"W\",\"W\",\"W\",\"W\",\"W\",\"W\",\"W\",\"W\",\"W\",\"W\",\"W\",\"W\",\"W\",\"W\",\"W\",\"W\",\"W\",\"W\",\"W\",\"W\",\"W\",\"W\",\"W\",\"W\",\"W\",\"W\",\"W\",\"W\",\"W\",\"W\",\"W\",\"W\",\"W\",\"W\",\"W\",\"W\",\"W\",\"W\",\"W\",\"W\",\"W\",\"W\",\"W\",\"W\",\"W\",\"W\",\"W\",\"W\",\"W\",\"W\",\"W\",\"W\",\"W\",\"W\",\"W\",\"W\",\"W\",\"W\",\"W\",\"W\",\"W\",\"W\",\"W\",\"W\",\"W\",\"W\",\"W\",\"W\",\"W\",\"W\",\"W\",\"W\",\"W\",\"W\",\"W\",\"W\",\"W\",\"W\",\"W\",\"W\",\"W\",\"W\",\"W\",\"W\",\"W\",\"W\",\"W\",\"W\",\"W\",\"W\",\"W\",\"W\",\"W\",\"W\",\"W\",\"W\",\"W\",\"W\",\"W\",\"W\",\"W\",\"W\",\"W\",\"W\",\"W\",\"W\",\"W\",\"W\",\"W\",\"W\",\"W\",\"W\",\"W\",\"W\",\"W\",\"W\",\"W\",\"W\",\"W\",\"W\",\"W\",\"W\",\"W\"],\"index\":[414499,414645,414791,414937,415082,415415,415561,415706,415852,415998,416329,416474,416619,416764,416910,417241,417386,417531,417676,417821,418151,418296,418442,418588,418733,419066,419202,419339,419476,419612,419935,420072,420210,420347,420484,420807,420943,421079,421216,421352,421673,421810,421946,422083,422219,422541,422677,422814,422951,423087,423409,423545,423681,423817,423954,424274,424412,424550,424687,424825,425147,425284,425422,425559,425696,426018,426155,426293,426431,426569,426892,427028,427165,427301,427438,427761,427897,428033,428169,428306,428627,428764,428901,429037,429173,429495,429631,429767,429903,430039,430360,430498,430635,430771,430907,431228,431365,431501,431636,431771,432092,432227,432363,432499,432634,433046,433183,433320,433457,433780,433917,434054,434191,434328,434652,434789,434927,435065,435202,435524,435661,435798,435936,436073,436391,436529,436667,436804,436941,437346,437483,437620,437757,438076,438213,438350,438487,438625,438946,439084,439222,439359,439496,439816,439953,440090,440227,440364,440681,440819,440957,441094,441231,441551,441688,441825,441962,442099,442417,442555,442693,442830,442967,443288,443425,443562,443700,443837,444157,444295,444433,444570,444707,445116,445252,445388,445523,445842,445977,446112,446247,446382,446701,446837,446974,447110,447247,447569,447706,447841,447976,448111,448431,448566,448701,448836,448971,449291,449426,449562,449698,449833,450154,450290,450425,450561,450696,451017,451152,451287,451423,451558,451878,452014,452149,452285,452421,452740,452876,453011,453147,453283,453605,453740,453875,454010,454145,454465,454601,454737,454961,455280,455416,455553,455690,455826,456148,456285,456421,456558,456694,457015,457152,457288,457425,457561,457884,458020,458157,458294,458430,458742,458878,459015,459151,459288],\"rides\":[20004,20951,21571,19595,20277,25009,25298,26571,26407,26096,15727,27958,28063,26639,27041,27620,26040,27721,25757,23487,28029,26408,28553,27621,26224,25898,24471,24586,25107,22834,19302,25655,25162,25821,24157,23941,25620,24874,24888,23977,23188,25807,25686,26350,25994,25057,24786,25126,25031,24225,24352,25271,25227,25365,24016,22262,21662,21724,20282,20197,20184,20775,20587,21962,21217,22808,23086,21663,24097,22607,25094,24343,24366,23979,23187,23900,23806,23421,24028,22931,24358,24041,23186,22859,24166,24016,23686,23814,23210,22496,21695,20861,20976,20762,21012,19610,20217,20890,20223,19735,20237,20341,20332,19488,20438,21594,20958,21905,20756,21092,19599,21852,20851,19973,20784,19769,20566,19326,19290,18620,18902,17339,19620,18529,18927,18680,18661,19377,19524,18100,18390,18770,18938,19210,19370,19537,20170,19030,19770,19626,20642,19367,18660,19357,19566,19066,19133,19328,19671,19098,18715,19993,18979,19010,17696,19138,18994,18892,18932,18857,20264,20782,20067,23858,24020,23565,23812,22526,23742,22867,24720,24765,23116,25342,25821,25158,24185,25453,25655,25665,24104,24903,24661,24819,24718,24711,22423,23777,24145,24103,23453,25312,23478,24596,24489,24119,23708,20457,25414,24879,25066,24510,24164,25318,25991,24556,23477,24299,23051,25093,24499,22926,24857,25375,25769,24675,23862,25076,25572,25569,22353,23042,24192,24884,24561,24154,24234,22625,24037,20316,10461,22375,22789,23255,23616,22364,21569,22191,22871,21329,21894,16670,18578,18866,18501,19074,16122,16631,15766,14196,9432,12801,13609,14316,15051,12011],\"route\":[\"8\",\"8\",\"8\",\"8\",\"8\",\"8\",\"8\",\"8\",\"8\",\"8\",\"8\",\"8\",\"8\",\"8\",\"8\",\"8\",\"8\",\"8\",\"8\",\"8\",\"8\",\"8\",\"8\",\"8\",\"8\",\"8\",\"8\",\"8\",\"8\",\"8\",\"8\",\"8\",\"8\",\"8\",\"8\",\"8\",\"8\",\"8\",\"8\",\"8\",\"8\",\"8\",\"8\",\"8\",\"8\",\"8\",\"8\",\"8\",\"8\",\"8\",\"8\",\"8\",\"8\",\"8\",\"8\",\"8\",\"8\",\"8\",\"8\",\"8\",\"8\",\"8\",\"8\",\"8\",\"8\",\"8\",\"8\",\"8\",\"8\",\"8\",\"8\",\"8\",\"8\",\"8\",\"8\",\"8\",\"8\",\"8\",\"8\",\"8\",\"8\",\"8\",\"8\",\"8\",\"8\",\"8\",\"8\",\"8\",\"8\",\"8\",\"8\",\"8\",\"8\",\"8\",\"8\",\"8\",\"8\",\"8\",\"8\",\"8\",\"8\",\"8\",\"8\",\"8\",\"8\",\"8\",\"8\",\"8\",\"8\",\"8\",\"8\",\"8\",\"8\",\"8\",\"8\",\"8\",\"8\",\"8\",\"8\",\"8\",\"8\",\"8\",\"8\",\"8\",\"8\",\"8\",\"8\",\"8\",\"8\",\"8\",\"8\",\"8\",\"8\",\"8\",\"8\",\"8\",\"8\",\"8\",\"8\",\"8\",\"8\",\"8\",\"8\",\"8\",\"8\",\"8\",\"8\",\"8\",\"8\",\"8\",\"8\",\"8\",\"8\",\"8\",\"8\",\"8\",\"8\",\"8\",\"8\",\"8\",\"8\",\"8\",\"8\",\"8\",\"8\",\"8\",\"8\",\"8\",\"8\",\"8\",\"8\",\"8\",\"8\",\"8\",\"8\",\"8\",\"8\",\"8\",\"8\",\"8\",\"8\",\"8\",\"8\",\"8\",\"8\",\"8\",\"8\",\"8\",\"8\",\"8\",\"8\",\"8\",\"8\",\"8\",\"8\",\"8\",\"8\",\"8\",\"8\",\"8\",\"8\",\"8\",\"8\",\"8\",\"8\",\"8\",\"8\",\"8\",\"8\",\"8\",\"8\",\"8\",\"8\",\"8\",\"8\",\"8\",\"8\",\"8\",\"8\",\"8\",\"8\",\"8\",\"8\",\"8\",\"8\",\"8\",\"8\",\"8\",\"8\",\"8\",\"8\",\"8\",\"8\",\"8\",\"8\",\"8\",\"8\",\"8\",\"8\",\"8\",\"8\",\"8\",\"8\",\"8\",\"8\",\"8\",\"8\",\"8\",\"8\",\"8\",\"8\",\"8\",\"8\",\"8\",\"8\",\"8\"]},\"selected\":{\"id\":\"c32895d4-cf8c-4973-bfa7-e6333300b691\",\"type\":\"Selection\"},\"selection_policy\":{\"id\":\"0b4ab0e9-469c-4eb4-a4b0-fbdf3b10e7f8\",\"type\":\"UnionRenderers\"}},\"id\":\"d9c59066-c9aa-42bb-af23-4721e1ac2f84\",\"type\":\"ColumnDataSource\"},{\"attributes\":{\"months\":[0,4,8]},\"id\":\"e999e505-df55-45a3-a476-13185e1085f4\",\"type\":\"MonthsTicker\"}],\"root_ids\":[\"1712987c-5cf4-4d99-be96-970cccb9f09c\"]},\"title\":\"Bokeh Application\",\"version\":\"0.12.16\"}};\n",
       "  var render_items = [{\"docid\":\"efe6baa4-f5ef-4c48-9ec9-a2e6c9c00025\",\"elementid\":\"6a4d4af7-ad8b-4489-8615-00bad84887b6\",\"modelid\":\"1712987c-5cf4-4d99-be96-970cccb9f09c\",\"notebook_comms_target\":\"c3edf2ec-0eeb-4a1c-83bc-2fec8a58886b\"}];\n",
       "  root.Bokeh.embed.embed_items_notebook(docs_json, render_items);\n",
       "\n",
       "  }\n",
       "  if (root.Bokeh !== undefined) {\n",
       "    embed_document(root);\n",
       "  } else {\n",
       "    var attempts = 0;\n",
       "    var timer = setInterval(function(root) {\n",
       "      if (root.Bokeh !== undefined) {\n",
       "        embed_document(root);\n",
       "        clearInterval(timer);\n",
       "      }\n",
       "      attempts++;\n",
       "      if (attempts > 100) {\n",
       "        console.log(\"Bokeh: ERROR: Unable to run BokehJS code because BokehJS library is missing\")\n",
       "        clearInterval(timer);\n",
       "      }\n",
       "    }, 10, root)\n",
       "  }\n",
       "})(window);"
      ],
      "application/vnd.bokehjs_exec.v0+json": ""
     },
     "metadata": {
      "application/vnd.bokehjs_exec.v0+json": {
       "id": "1712987c-5cf4-4d99-be96-970cccb9f09c"
      }
     },
     "output_type": "display_data"
    },
    {
     "data": {
      "text/html": [
       "<p><code>&lt;Bokeh Notebook handle for <strong>In[82]</strong>&gt;</code></p>"
      ],
      "text/plain": [
       "<bokeh.io.notebook.CommsHandle at 0x1210246d8>"
      ]
     },
     "execution_count": 82,
     "metadata": {},
     "output_type": "execute_result"
    }
   ],
   "source": [
    "# Create Initial Data Source\n",
    "Bus_8 = Bus_Data[(Bus_Data['route'] == '8') & \n",
    "                 (Bus_Data['date_time'] > str(2010) +'-1-1') & \n",
    "                 (Bus_Data['date_time'] <= str(2010+1)+'-1-1') &\n",
    "                 (Bus_Data['daytype'] == 'W')]\n",
    "\n",
    "source = ColumnDataSource(Bus_8)\n",
    "\n",
    "# Create bokeh figure\n",
    "p = figure(plot_height = 400, plot_width = 900, \n",
    "            title = 'Bus ridership over time', \n",
    "            x_axis_label = 'time', \n",
    "            y_axis_label = 'rides', \n",
    "            x_axis_type = 'datetime')\n",
    "\n",
    "# Make Plot using original source\n",
    "p.circle(x='date_time', y='rides', color='navy', alpha=0.5,source=source)\n",
    "\n",
    "p.y_range = Range1d(0, 30000)\n",
    "\n",
    "# Set to output the plot in the notebook\n",
    "output_notebook()\n",
    "\n",
    "# Show the plot\n",
    "show(p,notebook_handle=True)"
   ]
  },
  {
   "cell_type": "code",
   "execution_count": 83,
   "metadata": {
    "scrolled": true
   },
   "outputs": [
    {
     "data": {
      "application/vnd.jupyter.widget-view+json": {
       "model_id": "8b1b2105d92b43368587e3dd7dc6e461"
      }
     },
     "metadata": {},
     "output_type": "display_data"
    },
    {
     "data": {
      "text/plain": [
       "<function __main__.update>"
      ]
     },
     "execution_count": 83,
     "metadata": {},
     "output_type": "execute_result"
    }
   ],
   "source": [
    "from ipywidgets import interact\n",
    "interact(update, year = (2005,2017,1), route = '8')"
   ]
  },
  {
   "cell_type": "code",
   "execution_count": 89,
   "metadata": {},
   "outputs": [
    {
     "data": {
      "text/html": [
       "\n",
       "<div class=\"bk-root\">\n",
       "    <div class=\"bk-plotdiv\" id=\"836f91c9-7090-4db2-9369-4ca428b199d2\"></div>\n",
       "</div>"
      ]
     },
     "metadata": {},
     "output_type": "display_data"
    },
    {
     "data": {
      "application/javascript": [
       "(function(root) {\n",
       "  function embed_document(root) {\n",
       "    \n",
       "  var docs_json = {\"ffc2edd5-615a-4480-8627-0e388b635419\":{\"roots\":{\"references\":[{\"attributes\":{\"callback\":null,\"options\":[\"3\",\"4\",\"6\",\"8\",\"9\",\"10\",\"11\",\"12\",\"18\",\"20\",\"21\",\"22\",\"27\",\"28\",\"29\",\"30\",\"34\",\"35\",\"36\",\"43\",\"44\",\"47\",\"49\",\"50\",\"51\",\"52\",\"53\",\"54\",\"55\",\"56\",\"57\",\"60\",\"62\",\"63\",\"65\",\"66\",\"67\",\"68\",\"70\",\"71\",\"72\",\"73\",\"74\",\"75\",\"76\",\"77\",\"78\",\"79\",\"80\",\"81\",\"82\",\"84\",\"85\",\"87\",\"88\",\"90\",\"91\",\"92\",\"94\",\"97\",\"103\",\"106\",\"111\",\"112\",\"119\",\"126\",\"145\",\"146\",\"151\",\"152\",\"155\",\"171\",\"172\",\"173\",\"201\",\"49B\",\"52A\",\"53A\",\"54B\",\"63W\",\"81W\",\"8A\",\"95E\",\"95W\",\"X21\",\"1\",\"2\",\"7\",\"14\",\"17\",\"19\",\"24\",\"25\",\"33\",\"37\",\"39\",\"48\",\"59\",\"64\",\"69\",\"86\",\"93\",\"96\",\"100\",\"108\",\"120\",\"121\",\"122\",\"123\",\"125\",\"127\",\"129\",\"135\",\"136\",\"147\",\"156\",\"157\",\"169\",\"170\",\"202\",\"203\",\"204\",\"290S\",\"49A\",\"54A\",\"55N\",\"56A\",\"62H\",\"85A\",\"90N\",\"X49\",\"137\",\"128\",\"124\",\"154\",\"130\",\"168\",\"X80\",\"X98\",\"X55\",\"69BR\",\"5\",\"200\",\"205\",\"206\",\"15\",\"26\",\"134\",\"143\",\"144\",\"1001\",\"148\",\"X99\",\"95\",\"40\",\"X28\",\"53AL\",\"X4\",\"X3\",\"192\",\"1002\",\"38\",\"X20\",\"X54\",\"X9\",\"174\",\"132\",\"165\",\"290\",\"55A\",\"N201\",\"J14\",\"115\",\"R22\",\"R55\",\"R63\",\"R69\",\"R79\",\"R87\",\"R95\",\"R39\",\"111A\",\"31\",\"992\",\"999\"],\"title\":\"Bus Route\",\"value\":\"8\"},\"id\":\"27fb7446-ff04-4f01-bf64-c7b2d2cc5542\",\"type\":\"Select\"},{\"attributes\":{\"children\":[{\"id\":\"27fb7446-ff04-4f01-bf64-c7b2d2cc5542\",\"type\":\"Select\"}]},\"id\":\"94ec9a13-8ee4-4e8c-a65c-9a85dc49c49f\",\"type\":\"WidgetBox\"}],\"root_ids\":[\"94ec9a13-8ee4-4e8c-a65c-9a85dc49c49f\"]},\"title\":\"Bokeh Application\",\"version\":\"0.12.16\"}};\n",
       "  var render_items = [{\"docid\":\"ffc2edd5-615a-4480-8627-0e388b635419\",\"elementid\":\"836f91c9-7090-4db2-9369-4ca428b199d2\",\"modelid\":\"94ec9a13-8ee4-4e8c-a65c-9a85dc49c49f\"}];\n",
       "  root.Bokeh.embed.embed_items_notebook(docs_json, render_items);\n",
       "\n",
       "  }\n",
       "  if (root.Bokeh !== undefined) {\n",
       "    embed_document(root);\n",
       "  } else {\n",
       "    var attempts = 0;\n",
       "    var timer = setInterval(function(root) {\n",
       "      if (root.Bokeh !== undefined) {\n",
       "        embed_document(root);\n",
       "        clearInterval(timer);\n",
       "      }\n",
       "      attempts++;\n",
       "      if (attempts > 100) {\n",
       "        console.log(\"Bokeh: ERROR: Unable to run BokehJS code because BokehJS library is missing\")\n",
       "        clearInterval(timer);\n",
       "      }\n",
       "    }, 10, root)\n",
       "  }\n",
       "})(window);"
      ],
      "application/vnd.bokehjs_exec.v0+json": ""
     },
     "metadata": {
      "application/vnd.bokehjs_exec.v0+json": {
       "id": "94ec9a13-8ee4-4e8c-a65c-9a85dc49c49f"
      }
     },
     "output_type": "display_data"
    }
   ],
   "source": []
  },
  {
   "cell_type": "code",
   "execution_count": null,
   "metadata": {
    "collapsed": true
   },
   "outputs": [],
   "source": []
  }
 ],
 "metadata": {
  "kernelspec": {
   "display_name": "Python 3",
   "language": "python",
   "name": "python3"
  },
  "language_info": {
   "codemirror_mode": {
    "name": "ipython",
    "version": 3
   },
   "file_extension": ".py",
   "mimetype": "text/x-python",
   "name": "python",
   "nbconvert_exporter": "python",
   "pygments_lexer": "ipython3",
   "version": "3.6.0"
  }
 },
 "nbformat": 4,
 "nbformat_minor": 2
}
